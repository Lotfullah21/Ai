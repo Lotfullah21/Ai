{
  "nbformat": 4,
  "nbformat_minor": 0,
  "metadata": {
    "colab": {
      "name": "Tensors and data.ipynb",
      "provenance": [],
      "authorship_tag": "ABX9TyOELl7SXheQgg1ddb+6e/bv",
      "include_colab_link": true
    },
    "kernelspec": {
      "name": "python3",
      "display_name": "Python 3"
    },
    "language_info": {
      "name": "python"
    }
  },
  "cells": [
    {
      "cell_type": "markdown",
      "metadata": {
        "id": "view-in-github",
        "colab_type": "text"
      },
      "source": [
        "<a href=\"https://colab.research.google.com/github/Lotfullah21/Ai/blob/main/Tensors_and_data.ipynb\" target=\"_parent\"><img src=\"https://colab.research.google.com/assets/colab-badge.svg\" alt=\"Open In Colab\"/></a>"
      ]
    },
    {
      "cell_type": "markdown",
      "source": [
        "# Tensors: \n",
        "**at its core,a tensor is a container for data__. almost always a numerical data**"
      ],
      "metadata": {
        "id": "tllFTS0hHU2r"
      }
    },
    {
      "cell_type": "code",
      "source": [
        ""
      ],
      "metadata": {
        "id": "5Ym7opxBHwg8"
      },
      "execution_count": null,
      "outputs": []
    }
  ]
}
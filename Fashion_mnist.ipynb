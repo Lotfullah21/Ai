{
  "cells": [
    {
      "cell_type": "markdown",
      "metadata": {
        "id": "view-in-github",
        "colab_type": "text"
      },
      "source": [
        "<a href=\"https://colab.research.google.com/github/Lotfullah21/Ai/blob/main/Fashion_mnist.ipynb\" target=\"_parent\"><img src=\"https://colab.research.google.com/assets/colab-badge.svg\" alt=\"Open In Colab\"/></a>"
      ]
    },
    {
      "cell_type": "markdown",
      "metadata": {
        "id": "d3yaN4wUcAcY"
      },
      "source": [
        "### Importing Libraries"
      ]
    },
    {
      "cell_type": "code",
      "execution_count": 3,
      "metadata": {
        "id": "yRMGu1MgcAcl"
      },
      "outputs": [],
      "source": [
        "import tensorflow as tf\n",
        "from tensorflow import keras"
      ]
    },
    {
      "cell_type": "markdown",
      "metadata": {
        "id": "xQBIDJx8cAcv"
      },
      "source": [
        "### Loading the Mnist Data Set\n",
        "the Mnist data set is a 28 by 28 gray scale image which consist of 70000 images, Luckily it is available in tf.keras.datasets API"
      ]
    },
    {
      "cell_type": "code",
      "execution_count": 4,
      "metadata": {
        "id": "7IQmVdgFcAcw"
      },
      "outputs": [],
      "source": [
        "F_Mnist = tf.keras.datasets.fashion_mnist"
      ]
    },
    {
      "cell_type": "markdown",
      "metadata": {
        "id": "cxbmbA7AcAc0"
      },
      "source": [
        "Calling load_data() on this object will give you two tuples with two lists each. These will be the training and testing values for the graphics that contain the clothing items and their labels."
      ]
    },
    {
      "cell_type": "code",
      "execution_count": 5,
      "metadata": {
        "colab": {
          "base_uri": "https://localhost:8080/"
        },
        "id": "SbCA_0JpcAc1",
        "outputId": "9201d81f-243d-453e-8fdd-01886011da6d"
      },
      "outputs": [
        {
          "output_type": "stream",
          "name": "stdout",
          "text": [
            "Downloading data from https://storage.googleapis.com/tensorflow/tf-keras-datasets/train-labels-idx1-ubyte.gz\n",
            "32768/29515 [=================================] - 0s 0us/step\n",
            "40960/29515 [=========================================] - 0s 0us/step\n",
            "Downloading data from https://storage.googleapis.com/tensorflow/tf-keras-datasets/train-images-idx3-ubyte.gz\n",
            "26427392/26421880 [==============================] - 0s 0us/step\n",
            "26435584/26421880 [==============================] - 0s 0us/step\n",
            "Downloading data from https://storage.googleapis.com/tensorflow/tf-keras-datasets/t10k-labels-idx1-ubyte.gz\n",
            "16384/5148 [===============================================================================================] - 0s 0us/step\n",
            "Downloading data from https://storage.googleapis.com/tensorflow/tf-keras-datasets/t10k-images-idx3-ubyte.gz\n",
            "4423680/4422102 [==============================] - 0s 0us/step\n",
            "4431872/4422102 [==============================] - 0s 0us/step\n"
          ]
        }
      ],
      "source": [
        "(training_images,training_labels),(test_images,test_labels) = F_Mnist.load_data()"
      ]
    },
    {
      "cell_type": "code",
      "execution_count": 6,
      "metadata": {
        "colab": {
          "base_uri": "https://localhost:8080/"
        },
        "id": "amf_ZL9mcAc2",
        "outputId": "d86da063-2ae5-4215-d7c0-2cfdbc5dbde5"
      },
      "outputs": [
        {
          "output_type": "stream",
          "name": "stdout",
          "text": [
            "0\n",
            "[[  0   0   0   0   0   0   0   0   0  22 118  24   0   0   0   0   0  48\n",
            "   88   5   0   0   0   0   0   0   0   0]\n",
            " [  0   0   0   0   0   0   0   0  12 100 212 205 185 179 173 186 193 221\n",
            "  142  85   0   0   0   0   0   0   0   0]\n",
            " [  0   0   0   0   0   0   0   0   0  85  76 199 225 248 255 238 226 157\n",
            "   68  80   0   0   0   0   0   0   0   0]\n",
            " [  0   0   0   0   0   0   0   0   0  91  69  91 201 218 225 209 158  61\n",
            "   93  72   0   0   0   0   0   0   0   0]\n",
            " [  0   0   0   0   0   0   0   0   0  79  89  61  59  87 108  75  56  76\n",
            "   97  73   0   0   0   0   0   0   0   0]\n",
            " [  0   0   0   0   0   0   0   0   0  75  89  80  80  67  63  73  83  80\n",
            "   96  72   0   0   0   0   0   0   0   0]\n",
            " [  0   0   0   0   0   0   0   0   0  77  88  77  80  83  83  83  83  81\n",
            "   95  76   0   0   0   0   0   0   0   0]\n",
            " [  0   0   0   0   0   0   0   0   0  89  96  80  83  81  84  85  85  85\n",
            "   97  84   0   0   0   0   0   0   0   0]\n",
            " [  0   0   0   0   0   0   0   0   0  93  97  81  85  84  85  87  88  84\n",
            "   99  87   0   0   0   0   0   0   0   0]\n",
            " [  0   0   0   0   0   0   0   0   0  95  87  84  87  88  85  87  87  84\n",
            "   92  87   0   0   0   0   0   0   0   0]\n",
            " [  0   0   0   0   0   0   0   0   0  97  87  87  85  88  87  87  87  88\n",
            "   85 107   0   0   0   0   0   0   0   0]\n",
            " [  0   0   0   0   0   0   0   0  17 100  88  87  87  88  87  87  85  89\n",
            "   77 118   8   0   0   0   0   0   0   0]\n",
            " [  0   0   0   0   0   0   0   0  10  93  87  87  87  87  87  88  87  89\n",
            "   80 103   0   0   0   0   0   0   0   0]\n",
            " [  0   0   0   0   0   0   0   0   9  96  87  87  87  87  87  88  87  88\n",
            "   87 103   0   0   0   0   0   0   0   0]\n",
            " [  0   0   0   0   0   0   0   0  12  96  85  87  87  87  85  87  87  88\n",
            "   89 100   2   0   0   0   0   0   0   0]\n",
            " [  0   0   0   0   0   0   0   0  20  95  84  88  85  87  88  88  88  89\n",
            "   88  99   8   0   0   0   0   0   0   0]\n",
            " [  0   0   0   0   0   0   0   0  21  96  85  87  85  88  88  88  88  89\n",
            "   89  99  10   0   0   0   0   0   0   0]\n",
            " [  0   0   0   0   0   0   0   0  24  96  85  87  85  87  88  88  89  88\n",
            "   91 102  14   0   0   0   0   0   0   0]\n",
            " [  0   0   0   0   0   0   0   0  25  93  84  88  87  87  87  87  87  89\n",
            "   91 103  29   0   0   0   0   0   0   0]\n",
            " [  0   0   0   0   0   0   0   0  30  95  85  88  88  87  87  87  87  89\n",
            "   88 102  37   0   0   0   0   0   0   0]\n",
            " [  0   0   0   0   0   0   0   0  34  96  88  87  87  87  87  87  87  85\n",
            "   85  97  38   0   0   0   0   0   0   0]\n",
            " [  0   0   0   0   0   0   0   0  40  96  87  85  87  87  87  87  87  85\n",
            "   84  92  49   0   0   0   0   0   0   0]\n",
            " [  0   0   0   0   0   0   0   0  46  95  83  84  87  87  87  87  87  87\n",
            "   84  87  84   0   0   0   0   0   0   0]\n",
            " [  0   0   0   0   0   0   0   0  72  95  85  84  85  88  87  87  89  87\n",
            "   85  83  63   0   0   0   0   0   0   0]\n",
            " [  0   0   0   0   0   0   0   0  64 100  84  87  88  85  88  88  84  87\n",
            "   83  95  53   0   0   0   0   0   0   0]\n",
            " [  0   0   0   0   0   0   0   0  10 102 100  91  91  89  85  84  84  87\n",
            "  108 106  14   0   0   0   0   0   0   0]\n",
            " [  0   0   0   0   0   0   0   0   0   8  73  93 104 107 103 103 106 102\n",
            "   75  10   0   0   0   0   0   0   0   0]\n",
            " [  0   0   0   0   0   0   0   0   1   0   0   0  18  42  57  56  32   8\n",
            "    0   0   1   0   0   0   0   0   0   0]]\n"
          ]
        }
      ],
      "source": [
        "\n",
        "print(training_labels[2])\n",
        "print(training_images[2])"
      ]
    },
    {
      "cell_type": "markdown",
      "metadata": {
        "id": "QLItWbwVcAc3"
      },
      "source": [
        "Lets Use matplot to show the real image of the content"
      ]
    },
    {
      "cell_type": "code",
      "execution_count": 7,
      "metadata": {
        "colab": {
          "base_uri": "https://localhost:8080/",
          "height": 302
        },
        "id": "iX8pGSwecAc4",
        "outputId": "a2214153-a821-442c-a24c-f4cb07863c69"
      },
      "outputs": [
        {
          "output_type": "stream",
          "name": "stdout",
          "text": [
            "3\n"
          ]
        },
        {
          "output_type": "execute_result",
          "data": {
            "text/plain": [
              "<matplotlib.image.AxesImage at 0x7ff1902f5190>"
            ]
          },
          "metadata": {},
          "execution_count": 7
        },
        {
          "output_type": "display_data",
          "data": {
            "text/plain": [
              "<Figure size 432x288 with 1 Axes>"
            ],
            "image/png": "[encoded data removed]"
          },
          "metadata": {
            "needs_background": "light"
          }
        }
      ],
      "source": [
        "import numpy as np\n",
        "import matplotlib.pyplot as plt\n",
        "print(training_labels[20])\n",
        "plt.imshow(training_images[20])"
      ]
    },
    {
      "cell_type": "raw",
      "metadata": {
        "id": "LYA3EsE0cAc5"
      },
      "source": [
        "pixels in images are from 0 and 255. while we train neural network, especially in image processing it is better to scale down them between 0 and 1.\n",
        "This process is called Normalization.\n"
      ]
    },
    {
      "cell_type": "code",
      "execution_count": 8,
      "metadata": {
        "id": "hMqqpIzEcAc6"
      },
      "outputs": [],
      "source": [
        "training_images = training_images/255.0\n",
        "test_images  = test_images/255.0"
      ]
    },
    {
      "cell_type": "code",
      "execution_count": 9,
      "metadata": {
        "colab": {
          "base_uri": "https://localhost:8080/",
          "height": 1000
        },
        "id": "ApSzdlSbcAc7",
        "outputId": "4fdc5476-d096-4419-f27b-349e8cdfaf19"
      },
      "outputs": [
        {
          "output_type": "stream",
          "name": "stdout",
          "text": [
            "[[0.         0.         0.         0.         0.         0.\n",
            "  0.         0.         0.         0.         0.         0.00392157\n",
            "  0.05882353 0.         0.         0.         0.         0.00784314\n",
            "  0.05490196 0.05490196 0.11372549 0.14901961 0.10196078 0.\n",
            "  0.         0.         0.         0.        ]\n",
            " [0.         0.         0.         0.         0.         0.\n",
            "  0.         0.         0.         0.         0.         0.20392157\n",
            "  0.27058824 0.18431373 0.2        0.17254902 0.14901961 0.17254902\n",
            "  0.18431373 0.21568627 0.27058824 0.3372549  0.38431373 0.03921569\n",
            "  0.         0.         0.         0.        ]\n",
            " [0.         0.         0.         0.         0.         0.\n",
            "  0.         0.         0.00392157 0.         0.03921569 0.15686275\n",
            "  0.1372549  0.22352941 0.34509804 0.3254902  0.27843137 0.25098039\n",
            "  0.20784314 0.18431373 0.24313725 0.24705882 0.29803922 0.17254902\n",
            "  0.         0.         0.         0.        ]\n",
            " [0.         0.         0.         0.         0.         0.\n",
            "  0.         0.         0.         0.         0.         0.25098039\n",
            "  0.20392157 0.23137255 0.20392157 0.15686275 0.23137255 0.27058824\n",
            "  0.36470588 0.38823529 0.34901961 0.25098039 0.24313725 0.16862745\n",
            "  0.         0.         0.         0.        ]\n",
            " [0.         0.         0.         0.         0.         0.\n",
            "  0.         0.         0.         0.         0.         0.29019608\n",
            "  0.05098039 0.15294118 0.29019608 0.43921569 0.67843137 0.43921569\n",
            "  0.36470588 0.27058824 0.30980392 0.33333333 0.33333333 0.24313725\n",
            "  0.         0.         0.         0.        ]\n",
            " [0.         0.         0.         0.         0.         0.\n",
            "  0.         0.         0.         0.         0.         0.\n",
            "  0.36078431 0.45882353 0.41960784 0.33333333 0.47843137 0.32156863\n",
            "  0.26666667 0.34901961 0.35294118 0.34117647 0.29411765 0.16078431\n",
            "  0.         0.         0.         0.        ]\n",
            " [0.         0.         0.         0.         0.         0.\n",
            "  0.         0.         0.         0.01960784 0.         0.29411765\n",
            "  0.7254902  0.48627451 0.30196078 0.36862745 0.37647059 0.31764706\n",
            "  0.2745098  0.68627451 0.60784314 0.25098039 0.29803922 0.24705882\n",
            "  0.         0.         0.         0.        ]\n",
            " [0.         0.         0.         0.         0.         0.\n",
            "  0.         0.         0.         0.01568627 0.         0.17647059\n",
            "  0.41568627 0.3254902  0.34901961 0.38823529 0.40784314 0.3254902\n",
            "  0.34117647 0.41960784 0.37647059 0.2627451  0.34901961 0.15686275\n",
            "  0.         0.         0.         0.        ]\n",
            " [0.         0.         0.         0.         0.         0.\n",
            "  0.         0.         0.         0.00392157 0.         0.10588235\n",
            "  0.37254902 0.37647059 0.4627451  0.43137255 0.48235294 0.45490196\n",
            "  0.36470588 0.5372549  0.44705882 0.34117647 0.39607843 0.1254902\n",
            "  0.         0.         0.         0.        ]\n",
            " [0.         0.         0.         0.         0.         0.\n",
            "  0.         0.         0.         0.         0.         0.19607843\n",
            "  0.14509804 0.22745098 0.16862745 0.22745098 0.3372549  0.36862745\n",
            "  0.41176471 0.50980392 0.50196078 0.35294118 0.42352941 0.37254902\n",
            "  0.         0.         0.         0.        ]\n",
            " [0.         0.         0.         0.         0.         0.\n",
            "  0.         0.         0.00392157 0.         0.09019608 0.24705882\n",
            "  0.14901961 0.09019608 0.21568627 0.32156863 0.26666667 0.37647059\n",
            "  0.38431373 0.45490196 0.41960784 0.36078431 0.41176471 0.49019608\n",
            "  0.04313725 0.         0.         0.        ]\n",
            " [0.         0.         0.         0.         0.         0.\n",
            "  0.         0.         0.00392157 0.         0.20784314 0.16078431\n",
            "  0.00784314 0.14901961 0.27843137 0.23921569 0.24313725 0.36078431\n",
            "  0.37647059 0.40784314 0.46666667 0.43921569 0.43137255 0.55686275\n",
            "  0.1372549  0.         0.         0.        ]\n",
            " [0.         0.         0.         0.         0.         0.\n",
            "  0.         0.         0.00392157 0.         0.14509804 0.29411765\n",
            "  0.13333333 0.14509804 0.07843137 0.15686275 0.22352941 0.30980392\n",
            "  0.37254902 0.3254902  0.45882353 0.46666667 0.37647059 0.25490196\n",
            "  0.         0.         0.         0.        ]\n",
            " [0.         0.         0.         0.         0.         0.\n",
            "  0.         0.         0.         0.         0.03137255 0.10588235\n",
            "  0.41960784 0.55294118 0.48627451 0.20784314 0.18431373 0.16078431\n",
            "  0.26666667 0.36470588 0.30196078 0.36470588 0.2        0.\n",
            "  0.         0.         0.         0.        ]\n",
            " [0.         0.         0.         0.         0.         0.\n",
            "  0.         0.         0.         0.00392157 0.         0.\n",
            "  0.74901961 0.83921569 0.84705882 0.76470588 0.72156863 0.55686275\n",
            "  0.55686275 0.37647059 0.24313725 0.29803922 0.34117647 0.09019608\n",
            "  0.         0.         0.         0.        ]\n",
            " [0.         0.         0.         0.         0.         0.\n",
            "  0.00392157 0.         0.         0.00392157 0.         0.\n",
            "  0.61176471 0.54117647 0.49411765 0.35294118 0.28627451 0.3254902\n",
            "  0.42352941 0.28627451 0.23921569 0.29411765 0.34509804 0.24705882\n",
            "  0.         0.         0.         0.        ]\n",
            " [0.         0.         0.         0.         0.         0.\n",
            "  0.00392157 0.00392157 0.         0.00392157 0.         0.01568627\n",
            "  0.38431373 0.48235294 0.30196078 0.3372549  0.36862745 0.44313725\n",
            "  0.41568627 0.27843137 0.30196078 0.34509804 0.3254902  0.3372549\n",
            "  0.         0.         0.         0.        ]\n",
            " [0.         0.         0.         0.         0.         0.\n",
            "  0.         0.         0.00392157 0.         0.0627451  0.16862745\n",
            "  0.29411765 0.52941176 0.39607843 0.41176471 0.34509804 0.30980392\n",
            "  0.26666667 0.2745098  0.38823529 0.36862745 0.20784314 0.3372549\n",
            "  0.09803922 0.         0.         0.        ]\n",
            " [0.         0.         0.         0.         0.         0.\n",
            "  0.         0.         0.         0.01568627 0.18039216 0.13333333\n",
            "  0.10980392 0.2745098  0.40784314 0.36078431 0.27843137 0.29803922\n",
            "  0.34901961 0.34509804 0.33333333 0.21568627 0.21568627 0.81568627\n",
            "  0.23921569 0.         0.         0.        ]\n",
            " [0.         0.         0.         0.         0.00392157 0.01960784\n",
            "  0.00392157 0.         0.06666667 0.18431373 0.11372549 0.10980392\n",
            "  0.1254902  0.10980392 0.23137255 0.43921569 0.36470588 0.34117647\n",
            "  0.30196078 0.27843137 0.34901961 0.50196078 0.73333333 0.96470588\n",
            "  0.07843137 0.         0.         0.        ]\n",
            " [0.         0.         0.         0.00392157 0.         0.\n",
            "  0.         0.09803922 0.20392157 0.10196078 0.14509804 0.16862745\n",
            "  0.12941176 0.1372549  0.10196078 0.23137255 0.22352941 0.24705882\n",
            "  0.45490196 0.5254902  0.63137255 0.75294118 0.7254902  0.72941176\n",
            "  0.34117647 0.         0.         0.        ]\n",
            " [0.         0.         0.         0.         0.         0.34901961\n",
            "  0.22352941 0.11372549 0.03921569 0.0745098  0.14901961 0.17647059\n",
            "  0.1372549  0.0745098  0.03137255 0.08235294 0.43137255 0.62352941\n",
            "  0.59607843 0.61960784 0.65098039 0.74509804 0.81176471 0.86666667\n",
            "  0.57254902 0.         0.         0.        ]\n",
            " [0.         0.         0.         0.         0.81960784 0.62745098\n",
            "  0.29411765 0.3254902  0.29019608 0.19607843 0.12941176 0.12156863\n",
            "  0.18039216 0.2627451  0.43529412 0.60784314 0.89019608 0.74117647\n",
            "  0.61960784 0.64313725 0.79607843 0.89411765 0.90588235 0.93333333\n",
            "  0.20784314 0.         0.         0.        ]\n",
            " [0.         0.         0.         0.         0.81568627 0.62352941\n",
            "  0.08235294 0.01960784 0.34117647 0.58039216 0.67843137 0.66666667\n",
            "  0.49019608 0.37254902 0.6        0.54901961 0.71764706 0.72156863\n",
            "  0.70588235 0.85882353 0.92941176 0.91372549 0.90588235 0.52941176\n",
            "  0.         0.         0.         0.        ]\n",
            " [0.         0.         0.         0.24705882 0.78823529 0.84313725\n",
            "  0.76862745 0.72941176 0.60392157 0.51764706 0.29803922 0.00784314\n",
            "  0.10980392 0.34509804 0.5254902  0.6        0.67843137 0.79607843\n",
            "  0.92156863 0.88235294 0.85882353 0.52941176 0.01176471 0.\n",
            "  0.         0.         0.         0.        ]\n",
            " [0.         0.         0.         0.66666667 0.89019608 0.68235294\n",
            "  0.6745098  0.70588235 0.76862745 0.73333333 0.48235294 0.18039216\n",
            "  0.35294118 0.58039216 0.66666667 0.81176471 0.90588235 0.94509804\n",
            "  0.78039216 0.16862745 0.         0.         0.         0.\n",
            "  0.         0.         0.         0.        ]\n",
            " [0.         0.         0.         0.         0.69803922 0.97647059\n",
            "  0.8        0.70980392 0.73333333 0.80392157 0.81176471 0.76862745\n",
            "  0.84313725 0.97647059 0.92941176 0.94509804 1.         0.39607843\n",
            "  0.         0.         0.         0.         0.00392157 0.\n",
            "  0.         0.         0.         0.        ]\n",
            " [0.         0.         0.         0.         0.         0.00392157\n",
            "  0.34509804 0.5372549  0.74509804 0.84313725 0.87058824 0.89019608\n",
            "  0.88235294 0.81568627 0.63529412 0.30196078 0.         0.\n",
            "  0.         0.00392157 0.         0.         0.         0.\n",
            "  0.         0.         0.         0.        ]]\n"
          ]
        },
        {
          "output_type": "execute_result",
          "data": {
            "text/plain": [
              "<matplotlib.image.AxesImage at 0x7ff1902b2bd0>"
            ]
          },
          "metadata": {},
          "execution_count": 9
        },
        {
          "output_type": "display_data",
          "data": {
            "text/plain": [
              "<Figure size 432x288 with 1 Axes>"
            ],
            "image/png": "[encoded data removed]"
          },
          "metadata": {
            "needs_background": "light"
          }
        }
      ],
      "source": [
        "print(training_images[2324])\n",
        "plt.imshow(training_images[2324])"
      ]
    },
    {
      "cell_type": "markdown",
      "metadata": {
        "id": "ZqMZo_PEcAc8"
      },
      "source": [
        "#### As you may notice, while printing the labels, instead of getting name of the clothings, we are getting numbers , it is done for two reasons\n",
        "1. Beacause computers are good with numbers.\n",
        "2. it avoid biases as each itme has different names in different languages."
      ]
    },
    {
      "cell_type": "code",
      "source": [
        "plt.imshow(training_images[232])"
      ],
      "metadata": {
        "colab": {
          "base_uri": "https://localhost:8080/",
          "height": 284
        },
        "id": "W0VuAu9TcLzG",
        "outputId": "fd840514-96b7-4a92-8d6f-66962fad2635"
      },
      "execution_count": 10,
      "outputs": [
        {
          "output_type": "execute_result",
          "data": {
            "text/plain": [
              "<matplotlib.image.AxesImage at 0x7ff18fda08d0>"
            ]
          },
          "metadata": {},
          "execution_count": 10
        },
        {
          "output_type": "display_data",
          "data": {
            "text/plain": [
              "<Figure size 432x288 with 1 Axes>"
            ],
            "image/png": "[encoded data removed]"
          },
          "metadata": {
            "needs_background": "light"
          }
        }
      ]
    },
    {
      "cell_type": "markdown",
      "metadata": {
        "id": "aEIB9_I2cAc9"
      },
      "source": [
        "## Now, Lets build the model"
      ]
    },
    {
      "cell_type": "code",
      "execution_count": 11,
      "metadata": {
        "id": "WNAV5eDccAc9"
      },
      "outputs": [],
      "source": [
        " model = tf.keras.Sequential([tf.keras.layers.Flatten(input_shape = (28,28)),\n",
        "                           tf.keras.layers.Dense(128,activation=tf.nn.relu),\n",
        "                           tf.keras.layers.Dense(10,activation=tf.nn.softmax)])"
      ]
    },
    {
      "cell_type": "raw",
      "metadata": {
        "id": "zOJt2OJqcAc-"
      },
      "source": [
        "Flatten: this will convert a 28*28 matrix into a flat vector of 728 values\n",
        "Dense: it means, every neuron is connected to it's previous and past neurons of different layers. \n",
        "    for example, all neurons in 2nd layer is connected to all neurons of 3rd and 1st layers\n",
        "    \n",
        "activation: it has different mathematical functions, basically it acts like our nerons in our brain, while summation of weights surpress a threshold, then it will order to activate that neuron and act, some how same here in maths, when a number larger than the specified threshold enter into a function, that function will get activated and act.\n",
        "     relu: it is one of the function which is greater than zero for all values of x , greater than zero\n",
        "     softmax: we use this in classificaiton problem, it gets the max between zero and the input = max(0,input)"
      ]
    },
    {
      "cell_type": "markdown",
      "metadata": {
        "id": "QbNV_881cAdA"
      },
      "source": [
        "## Now, we compile the model\n",
        "in this step, we apply an optimizer function to reduce the loss and converges to the best optimal soluiton \n",
        "and a loss funciton which measures how our prediction is different than the true labels, in other words how unhappy we are about the performance"
      ]
    },
    {
      "cell_type": "code",
      "execution_count": 12,
      "metadata": {
        "colab": {
          "base_uri": "https://localhost:8080/"
        },
        "id": "ZkPaA5n9cAdB",
        "outputId": "84092398-b9bb-4e60-88b0-8dc06dc63162"
      },
      "outputs": [
        {
          "output_type": "stream",
          "name": "stdout",
          "text": [
            "Epoch 1/10\n",
            "1875/1875 [==============================] - 4s 2ms/step - loss: 0.7403 - accuracy: 0.7598\n",
            "Epoch 2/10\n",
            "1875/1875 [==============================] - 4s 2ms/step - loss: 0.5148 - accuracy: 0.8234\n",
            "Epoch 3/10\n",
            "1875/1875 [==============================] - 4s 2ms/step - loss: 0.4717 - accuracy: 0.8374\n",
            "Epoch 4/10\n",
            "1875/1875 [==============================] - 4s 2ms/step - loss: 0.4467 - accuracy: 0.8459\n",
            "Epoch 5/10\n",
            "1875/1875 [==============================] - 4s 2ms/step - loss: 0.4290 - accuracy: 0.8514\n",
            "Epoch 6/10\n",
            "1875/1875 [==============================] - 4s 2ms/step - loss: 0.4152 - accuracy: 0.8551\n",
            "Epoch 7/10\n",
            "1875/1875 [==============================] - 4s 2ms/step - loss: 0.4046 - accuracy: 0.8586\n",
            "Epoch 8/10\n",
            "1875/1875 [==============================] - 4s 2ms/step - loss: 0.3940 - accuracy: 0.8630\n",
            "Epoch 9/10\n",
            "1875/1875 [==============================] - 4s 2ms/step - loss: 0.3852 - accuracy: 0.8643\n",
            "Epoch 10/10\n",
            "1875/1875 [==============================] - 4s 2ms/step - loss: 0.3775 - accuracy: 0.8691\n"
          ]
        },
        {
          "output_type": "execute_result",
          "data": {
            "text/plain": [
              "<keras.callbacks.History at 0x7ff18bb69a10>"
            ]
          },
          "metadata": {},
          "execution_count": 12
        }
      ],
      "source": [
        "model.compile(optimizer = \"sgd\",\n",
        "              loss = 'sparse_categorical_crossentropy',\n",
        "              metrics=['accuracy'])\n",
        "\n",
        "model.fit(training_images, training_labels, epochs=10)"
      ]
    },
    {
      "cell_type": "raw",
      "metadata": {
        "id": "UT3V3L7_cAdC"
      },
      "source": [
        "epochs: it means how many time we are going back through our training data, here we are going 10 times ,and after each time the performacne should improve. in here we measure the performance by loss and accuracy.\n",
        "we got loss = 0.2264\n",
        "and accuracy= 91.75 % \n",
        "which can be a good sign, but stil we improve the performance by adjusting the optimizer and loss function."
      ]
    },
    {
      "cell_type": "markdown",
      "metadata": {
        "id": "gnQmm6v0cAdD"
      },
      "source": [
        "## Evaluation\n",
        "But how would it work with unseen data? That's why we have the test images and labels. We can call model.evaluate() with this test dataset as inputs and it will report back the loss and accuracy of the model.\n"
      ]
    },
    {
      "cell_type": "code",
      "execution_count": 13,
      "metadata": {
        "colab": {
          "base_uri": "https://localhost:8080/"
        },
        "id": "6OTwmU8YcAdE",
        "outputId": "a2e9380d-4700-4dbc-b05a-9c427644cd0e"
      },
      "outputs": [
        {
          "output_type": "stream",
          "name": "stdout",
          "text": [
            "313/313 [==============================] - 1s 2ms/step - loss: 0.4149 - accuracy: 0.8516\n"
          ]
        },
        {
          "output_type": "execute_result",
          "data": {
            "text/plain": [
              "[0.4148661196231842, 0.8515999913215637]"
            ]
          },
          "metadata": {},
          "execution_count": 13
        }
      ],
      "source": [
        "model.evaluate(test_images, test_labels)"
      ]
    },
    {
      "cell_type": "raw",
      "metadata": {
        "id": "W2DuZ4LIcAdF"
      },
      "source": [
        "we can see, stil around 4% different is there betwee the accuracy of training and testing data set, but still it can a good prformance as we are measuring on the data which the model have never seen before"
      ]
    },
    {
      "cell_type": "code",
      "execution_count": 14,
      "metadata": {
        "colab": {
          "base_uri": "https://localhost:8080/"
        },
        "id": "LXH6W4TbcAdG",
        "outputId": "e8c03d39-6c77-470f-8c3b-0f4fe3d99c6b"
      },
      "outputs": [
        {
          "output_type": "stream",
          "name": "stdout",
          "text": [
            "[1.2171264e-06 1.8995522e-08 2.9216827e-07 3.4013812e-08 4.1852466e-08\n",
            " 2.8447525e-03 3.9802981e-06 5.3130351e-03 1.6764259e-04 9.9166894e-01]\n"
          ]
        }
      ],
      "source": [
        "classifications = model.predict(test_images)\n",
        "\n",
        "print(classifications[232])"
      ]
    },
    {
      "cell_type": "markdown",
      "metadata": {
        "id": "GoejcOIQcAdH"
      },
      "source": [
        "here we can see the largest value is in the 2nd index, so we predict this is the item in 2nd index.\n"
      ]
    },
    {
      "cell_type": "code",
      "execution_count": 15,
      "metadata": {
        "colab": {
          "base_uri": "https://localhost:8080/",
          "height": 284
        },
        "id": "i0UtqGPXcAdI",
        "outputId": "e5a3b59a-82b6-4404-864f-25ef44b5ff4b"
      },
      "outputs": [
        {
          "output_type": "execute_result",
          "data": {
            "text/plain": [
              "<matplotlib.image.AxesImage at 0x7ff18bab9990>"
            ]
          },
          "metadata": {},
          "execution_count": 15
        },
        {
          "output_type": "display_data",
          "data": {
            "text/plain": [
              "<Figure size 432x288 with 1 Axes>"
            ],
            "image/png": "[encoded data removed]"
          },
          "metadata": {
            "needs_background": "light"
          }
        }
      ],
      "source": [
        "plt.imshow(test_images[232])"
      ]
    },
    {
      "cell_type": "code",
      "execution_count": 16,
      "metadata": {
        "id": "6-2woAxscAdI"
      },
      "outputs": [],
      "source": [
        "#  the above image is an ankle boot which had been in the last item of our classification list items"
      ]
    },
    {
      "cell_type": "markdown",
      "metadata": {
        "id": "YPcjEHqhcAdJ"
      },
      "source": [
        "## Conclusion\n",
        "we had examined the fashion mnist data set using a simple neural network"
      ]
    },
    {
      "cell_type": "code",
      "execution_count": 16,
      "metadata": {
        "id": "dr5pUci5cAdK"
      },
      "outputs": [],
      "source": [
        ""
      ]
    }
  ],
  "metadata": {
    "kernelspec": {
      "display_name": "Python 3",
      "language": "python",
      "name": "python3"
    },
    "language_info": {
      "codemirror_mode": {
        "name": "ipython",
        "version": 3
      },
      "file_extension": ".py",
      "mimetype": "text/x-python",
      "name": "python",
      "nbconvert_exporter": "python",
      "pygments_lexer": "ipython3",
      "version": "3.9.5"
    },
    "colab": {
      "name": "Fashion_mnist.ipynb",
      "provenance": [],
      "include_colab_link": true
    }
  },
  "nbformat": 4,
  "nbformat_minor": 0
}
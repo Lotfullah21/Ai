{
  "nbformat": 4,
  "nbformat_minor": 0,
  "metadata": {
    "colab": {
      "name": "Hello World.ipynb",
      "provenance": [],
      "collapsed_sections": [],
      "toc_visible": true,
      "authorship_tag": "ABX9TyMo+bC6HP4Rq3blPd0FJZsR",
      "include_colab_link": true
    },
    "kernelspec": {
      "name": "python3",
      "display_name": "Python 3"
    },
    "language_info": {
      "name": "python"
    }
  },
  "cells": [
    {
      "cell_type": "markdown",
      "metadata": {
        "id": "view-in-github",
        "colab_type": "text"
      },
      "source": [
        "<a href=\"https://colab.research.google.com/github/Lotfullah21/Ai/blob/main/Hello_World.ipynb\" target=\"_parent\"><img src=\"https://colab.research.google.com/assets/colab-badge.svg\" alt=\"Open In Colab\"/></a>"
      ]
    },
    {
      "cell_type": "markdown",
      "source": [
        "# Artificial Intelligence \n",
        "\n",
        "this field is large and abstract, encompassing everything to do with making \n",
        "computers think and act like human beings do.\n",
        "one of the ways a human takes on new behavior is through learning by example"
      ],
      "metadata": {
        "id": "FUJy7aPxCDfN"
      }
    },
    {
      "cell_type": "code",
      "source": [
        "import tensorflow as tf\n",
        "tf.__version__"
      ],
      "metadata": {
        "colab": {
          "base_uri": "https://localhost:8080/",
          "height": 35
        },
        "id": "KgdnfboDB8iE",
        "outputId": "f7ddf669-130b-4739-d123-8bdfa1bf97f5"
      },
      "execution_count": null,
      "outputs": [
        {
          "output_type": "execute_result",
          "data": {
            "text/plain": [
              "'2.8.0'"
            ],
            "application/vnd.google.colaboratory.intrinsic+json": {
              "type": "string"
            }
          },
          "metadata": {},
          "execution_count": 3
        }
      ]
    },
    {
      "cell_type": "markdown",
      "source": [
        "# Tensor Flow\n",
        "Tensorflow is an open source platform for creating and using machine learning models,\n",
        "it implements many of the common algorithm and patterns needed for machine learnig."
      ],
      "metadata": {
        "id": "dWaaSUqGC0dQ"
      }
    },
    {
      "cell_type": "markdown",
      "source": [
        "fsdafsad"
      ],
      "metadata": {
        "id": "T3LDh3OAB9PB"
      }
    },
    {
      "cell_type": "code",
      "source": [
        "import tensorflow as tf\n",
        "import numpy as np\n",
        "from tensorflow.keras import Sequential \n",
        "from tensorflow.keras.layers import Dense"
      ],
      "metadata": {
        "id": "mmI6pv9aB-LD"
      },
      "execution_count": null,
      "outputs": []
    },
    {
      "cell_type": "code",
      "source": [
        "model = Sequential([Dense(units=1,input_shape=[1])])\n",
        "model.compile(optimizer = \"sgd\",loss = \"mean_squared_error\")"
      ],
      "metadata": {
        "id": "aol2rZjUDtu8"
      },
      "execution_count": null,
      "outputs": []
    },
    {
      "cell_type": "code",
      "source": [
        "x = np.array([2,1,3,1,3,-1,1,2,1,3,1,3,1,3,1,3,1])\n",
        "t = np.array([-1,-1,1,2,1,3,1,1,1,2,1,2,1,4,1,3,1])\n",
        "model.fit(x,t,epochs = 300,verbose=False)"
      ],
      "metadata": {
        "colab": {
          "base_uri": "https://localhost:8080/"
        },
        "id": "N-BmB7fcD93f",
        "outputId": "472fd8b5-7061-4b66-fb2e-d0e6234ba129"
      },
      "execution_count": null,
      "outputs": [
        {
          "output_type": "execute_result",
          "data": {
            "text/plain": [
              "<keras.callbacks.History at 0x7fed6c7f1fd0>"
            ]
          },
          "metadata": {},
          "execution_count": 13
        }
      ]
    },
    {
      "cell_type": "markdown",
      "source": [
        "# Predicting new value"
      ],
      "metadata": {
        "id": "b9yohleiF_uq"
      }
    },
    {
      "cell_type": "code",
      "source": [
        "print(model.predict([2]))"
      ],
      "metadata": {
        "colab": {
          "base_uri": "https://localhost:8080/"
        },
        "id": "nHk-yRm_EQI4",
        "outputId": "f9cd2d98-64e8-41da-da97-a305f11c50a3"
      },
      "execution_count": null,
      "outputs": [
        {
          "output_type": "stream",
          "name": "stdout",
          "text": [
            "[[1.3957851]]\n"
          ]
        }
      ]
    },
    {
      "cell_type": "markdown",
      "source": [
        "# Looking to the weights which our model have learned"
      ],
      "metadata": {
        "id": "U9NFxprkGHNn"
      }
    },
    {
      "cell_type": "markdown",
      "source": [
        "neurons have weight and bias\n",
        "parameters that they learn, which makes a single neuron fine for learning a relation‐\n",
        "ship like this: namely, when Y = 2X – 1, the weight is 2 and the bias is –1."
      ],
      "metadata": {
        "id": "4DuNUpN7FNuO"
      }
    },
    {
      "cell_type": "code",
      "source": [
        "print(model.get_weights())"
      ],
      "metadata": {
        "colab": {
          "base_uri": "https://localhost:8080/"
        },
        "id": "G6ss9LHoEd9r",
        "outputId": "01843ad8-556e-4fd0-e3c9-efdac2ed3ab9"
      },
      "execution_count": null,
      "outputs": [
        {
          "output_type": "stream",
          "name": "stdout",
          "text": [
            "[array([[0.17487651]], dtype=float32), array([1.0546142], dtype=float32)]\n"
          ]
        }
      ]
    },
    {
      "cell_type": "code",
      "source": [
        ""
      ],
      "metadata": {
        "id": "pCSuKZVdFfwa"
      },
      "execution_count": null,
      "outputs": []
    }
  ]
}